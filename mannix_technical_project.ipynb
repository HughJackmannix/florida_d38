{
 "cells": [
  {
   "cell_type": "markdown",
   "id": "180b0810",
   "metadata": {},
   "source": [
    "The following code is meant to determine the total votes cast and total registered voters for the precincts that now compose the new Florida State Senate D38 after redistricting"
   ]
  },
  {
   "cell_type": "markdown",
   "id": "b56db3f9",
   "metadata": {},
   "source": [
    "Sources: https://www.miamidade.gov/global/elections/election-results-archive.page, https://redistricting.maps.arcgis.com/apps/View/index.html?appid=a1efd16272984e47b9940f179a5cbe18"
   ]
  },
  {
   "cell_type": "code",
   "execution_count": 42,
   "id": "91351c7e",
   "metadata": {},
   "outputs": [],
   "source": [
    "import pandas as pd\n",
    "import numpy as np"
   ]
  },
  {
   "cell_type": "code",
   "execution_count": 2,
   "id": "c02bf5cf",
   "metadata": {},
   "outputs": [],
   "source": [
    "df_2020 = pd.read_csv('miami_2020.csv')\n",
    "\n",
    "df_2020['Precinct Name'] = df_2020['Precinct Name'].str.replace('PRECINCT ', '').astype(float)\n",
    "df_2020.rename(columns={'Precinct Name': 'Precinct Number'}, inplace=True)\n",
    "\n",
    "d37_df = df_2020[df_2020['Contest'] == 'State Senator Dist 37']\n",
    "d37_df.reset_index(inplace=True)\n",
    "\n",
    "d39_df = df_2020[df_2020['Contest'] == 'State Senator Dist 39']\n",
    "d39_df.reset_index(inplace=True)\n",
    "\n",
    "#----------------------------------------------------------------\n",
    "\n",
    "d40_df = pd.read_csv('miami_2018.csv')\n",
    "\n",
    "d40_df['Precinct Name'] = d40_df['Precinct Name'].astype(float)\n",
    "d40_df.rename(columns={'Precinct Name': 'Precinct Number'}, inplace=True)\n",
    "\n",
    "d40_df = d40_df[d40_df['Contest'] == 'STATE SENATOR, DISTRICT 40']\n",
    "d40_df.reset_index(inplace=True)"
   ]
  },
  {
   "cell_type": "code",
   "execution_count": 5,
   "id": "9a93a2cc",
   "metadata": {},
   "outputs": [],
   "source": [
    "data = []\n",
    "columns = list(df_2020.columns)\n",
    "\n",
    "d37precinct = [52, 51, 617, 618, 809, 843.1, 582, 569, 546, 583, 584, 634, 611, 651, 672, 652, 674, 612, 673, 640,\n",
    "              585, 532, 587, 586, 614, 635, 615, 613, 621, 606, 623, 719.1, 642, 653, 641, 625, 616, 626, 627, 628,\n",
    "              648, 646, 649, 630, 632, 631, 650, 628, 807, 809, 806, 808, 850, 810, 837, 811, 820, 844, 819, 821, 822,\n",
    "              957, 854, 823, 825, 824, 849, 839.1, 843, 832, 847, 862]\n",
    "\n",
    "for index, row in d37_df.iterrows():\n",
    "    if d37_df.iloc[index]['Precinct Number'] in d37precinct:\n",
    "        data.append(d37_df.iloc[index])\n",
    "        \n",
    "#-----------\n",
    "d39precinct = [848, 941, 900, 914, 913, 953, 931, 911, 909, 944, 903, 910, 940, 891, 890, 942, 904, 947, 969, 852, 960,\n",
    "              968, 845, 829.1, 830, 831, 967, 966, 961, 889, 905, 827.1, 834, 856, 833, 839, 932, 168, 167, 843, 482, \n",
    "              938]\n",
    "\n",
    "for index, row in d39_df.iterrows():\n",
    "    if d39_df.iloc[index]['Precinct Number'] in d39precinct:\n",
    "        data.append(d39_df.iloc[index])\n",
    "\n",
    "#-----------\n",
    "d40precinct = [438, 437, 436, 435, 434, 712, 713, 714, 715, 716, 717, 731, 731.1, 726, 730, 707.1, 729, 765, 745, 778,\n",
    "              779, 728, 777, 727, 725, 718, 723, 720, 721, 719, 696, 781, 746, 814,743.1, 771, 742.1, 756, 791, 801,\n",
    "              860, 841, 198, 200, 969.1, 845.1, 846, 829, 827, 851, 838, 815, 826, 818, 816, 813, 817, 812, 842, 802, \n",
    "              803, 804, 840, 754, 783, 753, 755, 760, 747, 749, 750, 748, 751, 752]\n",
    "\n",
    "for index, row in d40_df.iterrows():\n",
    "    if d40_df.iloc[index]['Precinct Number'] in d40precinct:\n",
    "        data.append(d40_df.iloc[index])\n",
    "\n",
    "\n"
   ]
  },
  {
   "cell_type": "code",
   "execution_count": 7,
   "id": "146d7658",
   "metadata": {},
   "outputs": [],
   "source": [
    "full_df = pd.DataFrame(data, columns=columns)"
   ]
  },
  {
   "cell_type": "code",
   "execution_count": 9,
   "id": "705c26ef",
   "metadata": {},
   "outputs": [],
   "source": [
    "election_results = full_df.groupby(['Contest', 'Candidate Issue', 'Precinct Number']).sum().reset_index()"
   ]
  },
  {
   "cell_type": "code",
   "execution_count": 11,
   "id": "e28d974f",
   "metadata": {},
   "outputs": [],
   "source": [
    "columns = ['County Code', 'Precinct Number', 'Registered Rep', 'Registered Dem', 'Registered Other', 'Registered Total']\n",
    "\n",
    "turnout_2020 = pd.read_excel('2020_turnout.xlsx',\n",
    "                            names=columns)\n",
    "for index in range(8):\n",
    "    turnout_2020.drop(index, inplace=True)\n",
    "    \n",
    "turnout_2020['Registered Rep'] = turnout_2020['Registered Rep'].astype(int)\n",
    "turnout_2020['Registered Dem'] = turnout_2020['Registered Dem'].astype(int)\n",
    "turnout_2020['Registered Other'] = turnout_2020['Registered Other'].astype(int)\n",
    "turnout_2020['Registered Total'] = turnout_2020['Registered Total'].astype(int)"
   ]
  },
  {
   "cell_type": "code",
   "execution_count": 12,
   "id": "a2b94b32",
   "metadata": {},
   "outputs": [],
   "source": [
    "turnout_2020 = turnout_2020[turnout_2020['County Code'] == 'DAD']"
   ]
  },
  {
   "cell_type": "code",
   "execution_count": 14,
   "id": "e9ab7e31",
   "metadata": {},
   "outputs": [],
   "source": [
    "merge = election_results.merge(turnout_2020, how='inner', on='Precinct Number')"
   ]
  },
  {
   "cell_type": "markdown",
   "id": "2ef867d1",
   "metadata": {},
   "source": [
    "## Districts 37 (2020)"
   ]
  },
  {
   "cell_type": "code",
   "execution_count": 16,
   "id": "fe73b9ac",
   "metadata": {},
   "outputs": [
    {
     "data": {
      "text/html": [
       "<div>\n",
       "<style scoped>\n",
       "    .dataframe tbody tr th:only-of-type {\n",
       "        vertical-align: middle;\n",
       "    }\n",
       "\n",
       "    .dataframe tbody tr th {\n",
       "        vertical-align: top;\n",
       "    }\n",
       "\n",
       "    .dataframe thead th {\n",
       "        text-align: right;\n",
       "    }\n",
       "</style>\n",
       "<table border=\"1\" class=\"dataframe\">\n",
       "  <thead>\n",
       "    <tr style=\"text-align: right;\">\n",
       "      <th></th>\n",
       "      <th>Total Votes</th>\n",
       "      <th>% of Total Votes</th>\n",
       "      <th>Registered Rep</th>\n",
       "      <th>Registered Dem</th>\n",
       "      <th>Registered Other</th>\n",
       "      <th>Registered Total</th>\n",
       "    </tr>\n",
       "    <tr>\n",
       "      <th>Contest</th>\n",
       "      <th></th>\n",
       "      <th></th>\n",
       "      <th></th>\n",
       "      <th></th>\n",
       "      <th></th>\n",
       "      <th></th>\n",
       "    </tr>\n",
       "  </thead>\n",
       "  <tbody>\n",
       "    <tr>\n",
       "      <th>State Senator Dist 37</th>\n",
       "      <td>2120</td>\n",
       "      <td>178.15</td>\n",
       "      <td>36794</td>\n",
       "      <td>46510</td>\n",
       "      <td>38726</td>\n",
       "      <td>122030</td>\n",
       "    </tr>\n",
       "  </tbody>\n",
       "</table>\n",
       "</div>"
      ],
      "text/plain": [
       "                       Total Votes  % of Total Votes  Registered Rep  \\\n",
       "Contest                                                                \n",
       "State Senator Dist 37         2120            178.15           36794   \n",
       "\n",
       "                       Registered Dem  Registered Other  Registered Total  \n",
       "Contest                                                                    \n",
       "State Senator Dist 37           46510             38726            122030  "
      ]
     },
     "execution_count": 16,
     "metadata": {},
     "output_type": "execute_result"
    }
   ],
   "source": [
    "merge[(merge['Contest'] == 'State Senator Dist 37') & (merge['Candidate Issue'] == 'Alex Rodriguez')].groupby('Contest').sum()\n"
   ]
  },
  {
   "cell_type": "code",
   "execution_count": 17,
   "id": "085cc81e",
   "metadata": {},
   "outputs": [
    {
     "data": {
      "text/html": [
       "<div>\n",
       "<style scoped>\n",
       "    .dataframe tbody tr th:only-of-type {\n",
       "        vertical-align: middle;\n",
       "    }\n",
       "\n",
       "    .dataframe tbody tr th {\n",
       "        vertical-align: top;\n",
       "    }\n",
       "\n",
       "    .dataframe thead th {\n",
       "        text-align: right;\n",
       "    }\n",
       "</style>\n",
       "<table border=\"1\" class=\"dataframe\">\n",
       "  <thead>\n",
       "    <tr style=\"text-align: right;\">\n",
       "      <th></th>\n",
       "      <th>Total Votes</th>\n",
       "      <th>% of Total Votes</th>\n",
       "      <th>Registered Rep</th>\n",
       "      <th>Registered Dem</th>\n",
       "      <th>Registered Other</th>\n",
       "      <th>Registered Total</th>\n",
       "    </tr>\n",
       "    <tr>\n",
       "      <th>Contest</th>\n",
       "      <th></th>\n",
       "      <th></th>\n",
       "      <th></th>\n",
       "      <th></th>\n",
       "      <th></th>\n",
       "      <th></th>\n",
       "    </tr>\n",
       "  </thead>\n",
       "  <tbody>\n",
       "    <tr>\n",
       "      <th>State Senator Dist 37</th>\n",
       "      <td>42251</td>\n",
       "      <td>2833.0</td>\n",
       "      <td>36794</td>\n",
       "      <td>46510</td>\n",
       "      <td>38726</td>\n",
       "      <td>122030</td>\n",
       "    </tr>\n",
       "  </tbody>\n",
       "</table>\n",
       "</div>"
      ],
      "text/plain": [
       "                       Total Votes  % of Total Votes  Registered Rep  \\\n",
       "Contest                                                                \n",
       "State Senator Dist 37        42251            2833.0           36794   \n",
       "\n",
       "                       Registered Dem  Registered Other  Registered Total  \n",
       "Contest                                                                    \n",
       "State Senator Dist 37           46510             38726            122030  "
      ]
     },
     "execution_count": 17,
     "metadata": {},
     "output_type": "execute_result"
    }
   ],
   "source": [
    "merge[(merge['Contest'] == 'State Senator Dist 37') & (merge['Candidate Issue'] == 'Ileana Garcia')].groupby('Contest').sum()"
   ]
  },
  {
   "cell_type": "code",
   "execution_count": 18,
   "id": "c18c020a",
   "metadata": {},
   "outputs": [
    {
     "data": {
      "text/html": [
       "<div>\n",
       "<style scoped>\n",
       "    .dataframe tbody tr th:only-of-type {\n",
       "        vertical-align: middle;\n",
       "    }\n",
       "\n",
       "    .dataframe tbody tr th {\n",
       "        vertical-align: top;\n",
       "    }\n",
       "\n",
       "    .dataframe thead th {\n",
       "        text-align: right;\n",
       "    }\n",
       "</style>\n",
       "<table border=\"1\" class=\"dataframe\">\n",
       "  <thead>\n",
       "    <tr style=\"text-align: right;\">\n",
       "      <th></th>\n",
       "      <th>Total Votes</th>\n",
       "      <th>% of Total Votes</th>\n",
       "      <th>Registered Rep</th>\n",
       "      <th>Registered Dem</th>\n",
       "      <th>Registered Other</th>\n",
       "      <th>Registered Total</th>\n",
       "    </tr>\n",
       "    <tr>\n",
       "      <th>Contest</th>\n",
       "      <th></th>\n",
       "      <th></th>\n",
       "      <th></th>\n",
       "      <th></th>\n",
       "      <th></th>\n",
       "      <th></th>\n",
       "    </tr>\n",
       "  </thead>\n",
       "  <tbody>\n",
       "    <tr>\n",
       "      <th>State Senator Dist 37</th>\n",
       "      <td>48147</td>\n",
       "      <td>3488.8</td>\n",
       "      <td>36794</td>\n",
       "      <td>46510</td>\n",
       "      <td>38726</td>\n",
       "      <td>122030</td>\n",
       "    </tr>\n",
       "  </tbody>\n",
       "</table>\n",
       "</div>"
      ],
      "text/plain": [
       "                       Total Votes  % of Total Votes  Registered Rep  \\\n",
       "Contest                                                                \n",
       "State Senator Dist 37        48147            3488.8           36794   \n",
       "\n",
       "                       Registered Dem  Registered Other  Registered Total  \n",
       "Contest                                                                    \n",
       "State Senator Dist 37           46510             38726            122030  "
      ]
     },
     "execution_count": 18,
     "metadata": {},
     "output_type": "execute_result"
    }
   ],
   "source": [
    "merge[(merge['Contest'] == 'State Senator Dist 37') & (merge['Candidate Issue'] == 'Jose Javier Rodriguez')].groupby('Contest').sum()"
   ]
  },
  {
   "cell_type": "code",
   "execution_count": 224,
   "id": "ba1c9268",
   "metadata": {},
   "outputs": [],
   "source": [
    "d37_total_votes_cast = 2120+42251+48147\n",
    "d37_registered_total = 122030"
   ]
  },
  {
   "cell_type": "code",
   "execution_count": 227,
   "id": "5c830bba",
   "metadata": {},
   "outputs": [
    {
     "name": "stdout",
     "output_type": "stream",
     "text": [
      "Votes Cast: 92518 Total Registered: 122030\n"
     ]
    }
   ],
   "source": [
    "print('Votes Cast:', d37_total_votes_cast, 'Total Registered:',d37_registered_total)"
   ]
  },
  {
   "cell_type": "markdown",
   "id": "463d5004",
   "metadata": {},
   "source": [
    "# District 39 (2020)"
   ]
  },
  {
   "cell_type": "code",
   "execution_count": 221,
   "id": "9353403b",
   "metadata": {},
   "outputs": [
    {
     "data": {
      "text/html": [
       "<div>\n",
       "<style scoped>\n",
       "    .dataframe tbody tr th:only-of-type {\n",
       "        vertical-align: middle;\n",
       "    }\n",
       "\n",
       "    .dataframe tbody tr th {\n",
       "        vertical-align: top;\n",
       "    }\n",
       "\n",
       "    .dataframe thead th {\n",
       "        text-align: right;\n",
       "    }\n",
       "</style>\n",
       "<table border=\"1\" class=\"dataframe\">\n",
       "  <thead>\n",
       "    <tr style=\"text-align: right;\">\n",
       "      <th></th>\n",
       "      <th>Total Votes</th>\n",
       "      <th>% of Total Votes</th>\n",
       "      <th>Registered Rep</th>\n",
       "      <th>Registered Dem</th>\n",
       "      <th>Registered Other</th>\n",
       "      <th>Registered Total</th>\n",
       "    </tr>\n",
       "    <tr>\n",
       "      <th>Contest</th>\n",
       "      <th></th>\n",
       "      <th></th>\n",
       "      <th></th>\n",
       "      <th></th>\n",
       "      <th></th>\n",
       "      <th></th>\n",
       "    </tr>\n",
       "  </thead>\n",
       "  <tbody>\n",
       "    <tr>\n",
       "      <th>State Senator Dist 39</th>\n",
       "      <td>20590</td>\n",
       "      <td>1767.16</td>\n",
       "      <td>16758</td>\n",
       "      <td>31647</td>\n",
       "      <td>23505</td>\n",
       "      <td>71910</td>\n",
       "    </tr>\n",
       "  </tbody>\n",
       "</table>\n",
       "</div>"
      ],
      "text/plain": [
       "                       Total Votes  % of Total Votes  Registered Rep  \\\n",
       "Contest                                                                \n",
       "State Senator Dist 39        20590           1767.16           16758   \n",
       "\n",
       "                       Registered Dem  Registered Other  Registered Total  \n",
       "Contest                                                                    \n",
       "State Senator Dist 39           31647             23505             71910  "
      ]
     },
     "execution_count": 221,
     "metadata": {},
     "output_type": "execute_result"
    }
   ],
   "source": [
    "merge[(merge['Contest'] == 'State Senator Dist 39') & (merge['Candidate Issue'] == 'Ana Maria Rodriguez')].groupby('Contest').sum()"
   ]
  },
  {
   "cell_type": "code",
   "execution_count": 222,
   "id": "2edee3ec",
   "metadata": {},
   "outputs": [
    {
     "data": {
      "text/html": [
       "<div>\n",
       "<style scoped>\n",
       "    .dataframe tbody tr th:only-of-type {\n",
       "        vertical-align: middle;\n",
       "    }\n",
       "\n",
       "    .dataframe tbody tr th {\n",
       "        vertical-align: top;\n",
       "    }\n",
       "\n",
       "    .dataframe thead th {\n",
       "        text-align: right;\n",
       "    }\n",
       "</style>\n",
       "<table border=\"1\" class=\"dataframe\">\n",
       "  <thead>\n",
       "    <tr style=\"text-align: right;\">\n",
       "      <th></th>\n",
       "      <th>Total Votes</th>\n",
       "      <th>% of Total Votes</th>\n",
       "      <th>Registered Rep</th>\n",
       "      <th>Registered Dem</th>\n",
       "      <th>Registered Other</th>\n",
       "      <th>Registered Total</th>\n",
       "    </tr>\n",
       "    <tr>\n",
       "      <th>Contest</th>\n",
       "      <th></th>\n",
       "      <th></th>\n",
       "      <th></th>\n",
       "      <th></th>\n",
       "      <th></th>\n",
       "      <th></th>\n",
       "    </tr>\n",
       "  </thead>\n",
       "  <tbody>\n",
       "    <tr>\n",
       "      <th>State Senator Dist 39</th>\n",
       "      <td>796</td>\n",
       "      <td>78.06</td>\n",
       "      <td>16758</td>\n",
       "      <td>31647</td>\n",
       "      <td>23505</td>\n",
       "      <td>71910</td>\n",
       "    </tr>\n",
       "  </tbody>\n",
       "</table>\n",
       "</div>"
      ],
      "text/plain": [
       "                       Total Votes  % of Total Votes  Registered Rep  \\\n",
       "Contest                                                                \n",
       "State Senator Dist 39          796             78.06           16758   \n",
       "\n",
       "                       Registered Dem  Registered Other  Registered Total  \n",
       "Contest                                                                    \n",
       "State Senator Dist 39           31647             23505             71910  "
      ]
     },
     "execution_count": 222,
     "metadata": {},
     "output_type": "execute_result"
    }
   ],
   "source": [
    "merge[(merge['Contest'] == 'State Senator Dist 39') & (merge['Candidate Issue'] == 'Celso D. Alfonso')].groupby('Contest').sum()"
   ]
  },
  {
   "cell_type": "code",
   "execution_count": 223,
   "id": "5dcdd13e",
   "metadata": {},
   "outputs": [
    {
     "data": {
      "text/html": [
       "<div>\n",
       "<style scoped>\n",
       "    .dataframe tbody tr th:only-of-type {\n",
       "        vertical-align: middle;\n",
       "    }\n",
       "\n",
       "    .dataframe tbody tr th {\n",
       "        vertical-align: top;\n",
       "    }\n",
       "\n",
       "    .dataframe thead th {\n",
       "        text-align: right;\n",
       "    }\n",
       "</style>\n",
       "<table border=\"1\" class=\"dataframe\">\n",
       "  <thead>\n",
       "    <tr style=\"text-align: right;\">\n",
       "      <th></th>\n",
       "      <th>Total Votes</th>\n",
       "      <th>% of Total Votes</th>\n",
       "      <th>Registered Rep</th>\n",
       "      <th>Registered Dem</th>\n",
       "      <th>Registered Other</th>\n",
       "      <th>Registered Total</th>\n",
       "    </tr>\n",
       "    <tr>\n",
       "      <th>Contest</th>\n",
       "      <th></th>\n",
       "      <th></th>\n",
       "      <th></th>\n",
       "      <th></th>\n",
       "      <th></th>\n",
       "      <th></th>\n",
       "    </tr>\n",
       "  </thead>\n",
       "  <tbody>\n",
       "    <tr>\n",
       "      <th>State Senator Dist 39</th>\n",
       "      <td>25099</td>\n",
       "      <td>2054.77</td>\n",
       "      <td>16758</td>\n",
       "      <td>31647</td>\n",
       "      <td>23505</td>\n",
       "      <td>71910</td>\n",
       "    </tr>\n",
       "  </tbody>\n",
       "</table>\n",
       "</div>"
      ],
      "text/plain": [
       "                       Total Votes  % of Total Votes  Registered Rep  \\\n",
       "Contest                                                                \n",
       "State Senator Dist 39        25099           2054.77           16758   \n",
       "\n",
       "                       Registered Dem  Registered Other  Registered Total  \n",
       "Contest                                                                    \n",
       "State Senator Dist 39           31647             23505             71910  "
      ]
     },
     "execution_count": 223,
     "metadata": {},
     "output_type": "execute_result"
    }
   ],
   "source": [
    "merge[(merge['Contest'] == 'State Senator Dist 39') & (merge['Candidate Issue'] == 'Javier E. Fernandez')].groupby('Contest').sum()"
   ]
  },
  {
   "cell_type": "code",
   "execution_count": null,
   "id": "f43f784c",
   "metadata": {},
   "outputs": [],
   "source": [
    "merge[(merge['Contest'] == 'State Senator Dist 39') & (merge['Candidate Issue'] == 'Jose Javier Rodriguez')].groupby('Contest').sum()"
   ]
  },
  {
   "cell_type": "code",
   "execution_count": 229,
   "id": "45aeb0fd",
   "metadata": {},
   "outputs": [],
   "source": [
    "d39_total_votes_cast = 20590+796+25099 \n",
    "d39_registered_total = 71910"
   ]
  },
  {
   "cell_type": "code",
   "execution_count": 230,
   "id": "5e0d0f7b",
   "metadata": {},
   "outputs": [
    {
     "name": "stdout",
     "output_type": "stream",
     "text": [
      "Votes Cast: 46485 Total Registered: 71910\n"
     ]
    }
   ],
   "source": [
    "print('Votes Cast:', d39_total_votes_cast, 'Total Registered:',d39_registered_total)"
   ]
  },
  {
   "cell_type": "markdown",
   "id": "d279190d",
   "metadata": {},
   "source": [
    "## District 40 (2018)"
   ]
  },
  {
   "cell_type": "code",
   "execution_count": 19,
   "id": "0ef14c9f",
   "metadata": {},
   "outputs": [
    {
     "data": {
      "text/html": [
       "<div>\n",
       "<style scoped>\n",
       "    .dataframe tbody tr th:only-of-type {\n",
       "        vertical-align: middle;\n",
       "    }\n",
       "\n",
       "    .dataframe tbody tr th {\n",
       "        vertical-align: top;\n",
       "    }\n",
       "\n",
       "    .dataframe thead th {\n",
       "        text-align: right;\n",
       "    }\n",
       "</style>\n",
       "<table border=\"1\" class=\"dataframe\">\n",
       "  <thead>\n",
       "    <tr style=\"text-align: right;\">\n",
       "      <th></th>\n",
       "      <th>Total Votes</th>\n",
       "      <th>% of Total Votes</th>\n",
       "      <th>Registered Rep</th>\n",
       "      <th>Registered Dem</th>\n",
       "      <th>Registered Other</th>\n",
       "      <th>Registered Total</th>\n",
       "    </tr>\n",
       "    <tr>\n",
       "      <th>Contest</th>\n",
       "      <th></th>\n",
       "      <th></th>\n",
       "      <th></th>\n",
       "      <th></th>\n",
       "      <th></th>\n",
       "      <th></th>\n",
       "    </tr>\n",
       "  </thead>\n",
       "  <tbody>\n",
       "    <tr>\n",
       "      <th>STATE SENATOR, DISTRICT 40</th>\n",
       "      <td>44359</td>\n",
       "      <td>3738.54</td>\n",
       "      <td>50372</td>\n",
       "      <td>55503</td>\n",
       "      <td>45517</td>\n",
       "      <td>151392</td>\n",
       "    </tr>\n",
       "  </tbody>\n",
       "</table>\n",
       "</div>"
      ],
      "text/plain": [
       "                            Total Votes  % of Total Votes  Registered Rep  \\\n",
       "Contest                                                                     \n",
       "STATE SENATOR, DISTRICT 40        44359           3738.54           50372   \n",
       "\n",
       "                            Registered Dem  Registered Other  Registered Total  \n",
       "Contest                                                                         \n",
       "STATE SENATOR, DISTRICT 40           55503             45517            151392  "
      ]
     },
     "execution_count": 19,
     "metadata": {},
     "output_type": "execute_result"
    }
   ],
   "source": [
    "merge[(merge['Contest'] == 'STATE SENATOR, DISTRICT 40') & (merge['Candidate Issue'] == 'Annette Taddeo')].groupby('Contest').sum()"
   ]
  },
  {
   "cell_type": "code",
   "execution_count": 20,
   "id": "3c8f1b3f",
   "metadata": {},
   "outputs": [
    {
     "data": {
      "text/html": [
       "<div>\n",
       "<style scoped>\n",
       "    .dataframe tbody tr th:only-of-type {\n",
       "        vertical-align: middle;\n",
       "    }\n",
       "\n",
       "    .dataframe tbody tr th {\n",
       "        vertical-align: top;\n",
       "    }\n",
       "\n",
       "    .dataframe thead th {\n",
       "        text-align: right;\n",
       "    }\n",
       "</style>\n",
       "<table border=\"1\" class=\"dataframe\">\n",
       "  <thead>\n",
       "    <tr style=\"text-align: right;\">\n",
       "      <th></th>\n",
       "      <th>Total Votes</th>\n",
       "      <th>% of Total Votes</th>\n",
       "      <th>Registered Rep</th>\n",
       "      <th>Registered Dem</th>\n",
       "      <th>Registered Other</th>\n",
       "      <th>Registered Total</th>\n",
       "    </tr>\n",
       "    <tr>\n",
       "      <th>Contest</th>\n",
       "      <th></th>\n",
       "      <th></th>\n",
       "      <th></th>\n",
       "      <th></th>\n",
       "      <th></th>\n",
       "      <th></th>\n",
       "    </tr>\n",
       "  </thead>\n",
       "  <tbody>\n",
       "    <tr>\n",
       "      <th>STATE SENATOR, DISTRICT 40</th>\n",
       "      <td>35309</td>\n",
       "      <td>3061.46</td>\n",
       "      <td>50372</td>\n",
       "      <td>55503</td>\n",
       "      <td>45517</td>\n",
       "      <td>151392</td>\n",
       "    </tr>\n",
       "  </tbody>\n",
       "</table>\n",
       "</div>"
      ],
      "text/plain": [
       "                            Total Votes  % of Total Votes  Registered Rep  \\\n",
       "Contest                                                                     \n",
       "STATE SENATOR, DISTRICT 40        35309           3061.46           50372   \n",
       "\n",
       "                            Registered Dem  Registered Other  Registered Total  \n",
       "Contest                                                                         \n",
       "STATE SENATOR, DISTRICT 40           55503             45517            151392  "
      ]
     },
     "execution_count": 20,
     "metadata": {},
     "output_type": "execute_result"
    }
   ],
   "source": [
    "merge[(merge['Contest'] == 'STATE SENATOR, DISTRICT 40') & (merge['Candidate Issue'] == 'Marili Cancio')].groupby('Contest').sum()"
   ]
  },
  {
   "cell_type": "code",
   "execution_count": 231,
   "id": "9d9f166a",
   "metadata": {},
   "outputs": [],
   "source": [
    "d40_total_votes_cast = 4459+35309 \n",
    "d40_registered_total = 151392"
   ]
  },
  {
   "cell_type": "code",
   "execution_count": 232,
   "id": "c07b8ccb",
   "metadata": {},
   "outputs": [
    {
     "name": "stdout",
     "output_type": "stream",
     "text": [
      "Votes Cast: 39768 Total Registered: 151392\n"
     ]
    }
   ],
   "source": [
    "print('Votes Cast:', d40_total_votes_cast, 'Total Registered:',d40_registered_total)"
   ]
  }
 ],
 "metadata": {
  "kernelspec": {
   "display_name": "Python 3 (ipykernel)",
   "language": "python",
   "name": "python3"
  },
  "language_info": {
   "codemirror_mode": {
    "name": "ipython",
    "version": 3
   },
   "file_extension": ".py",
   "mimetype": "text/x-python",
   "name": "python",
   "nbconvert_exporter": "python",
   "pygments_lexer": "ipython3",
   "version": "3.8.5"
  }
 },
 "nbformat": 4,
 "nbformat_minor": 5
}
